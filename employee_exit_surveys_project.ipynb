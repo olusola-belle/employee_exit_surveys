{
 "cells": [
  {
   "cell_type": "markdown",
   "id": "7d7a0677",
   "metadata": {},
   "source": [
    "### Employee Exit Surveys (DETE & TAFE Institute in Queensland, Australia)\n",
    "\n",
    "This project is contains dataset collect froman employee exit survey fron guided project, employees of the Department of Education, Training and Employment (DETE) and the Technical and Further Education (TAFE) institute in Queensland, Australia.The aim of this project is to clean and analyze this dataset. Both emmployee exit survey will be combined and analyzed together to answer the following questions:\n",
    "- Are employees who only worked for the institutes for a short period of time resigning due to some kind of dissatisfaction? \n",
    "- What about employees who have been there longer?\n",
    "- Are younger employees resigning due to some kind of dissatisfaction? What about older employees?\n"
   ]
  },
  {
   "cell_type": "code",
   "execution_count": null,
   "id": "03ea2c5f",
   "metadata": {},
   "outputs": [],
   "source": [
    "# Read import necessary libaries\n",
    "\n",
    "import pandas as pd\n",
    "import numpy as np\n",
    "import matplotlib.pyplot as plt\n",
    "\n",
    "dete_survey = pd.read_csv('dete_survey.csv') # Read the dete_survey csv file\n",
    "\n",
    "tafe_survey = pd.read_csv('tafe_survey.csv') # Read the tafe_survey csv file"
   ]
  },
  {
   "cell_type": "code",
   "execution_count": null,
   "id": "9b29cf01",
   "metadata": {},
   "outputs": [],
   "source": [
    "dete_survey.info()"
   ]
  },
  {
   "cell_type": "code",
   "execution_count": null,
   "id": "dba4a9a4",
   "metadata": {},
   "outputs": [],
   "source": [
    "dete_survey.head()"
   ]
  },
  {
   "cell_type": "code",
   "execution_count": null,
   "id": "3365002d",
   "metadata": {},
   "outputs": [],
   "source": [
    "print(dete_survey[['SeparationType']].value_counts())\n",
    "print(dete_survey[['Age']].value_counts())\n",
    "print(dete_survey[['Position']].value_counts())"
   ]
  },
  {
   "cell_type": "code",
   "execution_count": null,
   "id": "2efe3f72",
   "metadata": {},
   "outputs": [],
   "source": [
    "dete_survey.isnull().sum()"
   ]
  },
  {
   "cell_type": "code",
   "execution_count": null,
   "id": "3ef624b4",
   "metadata": {},
   "outputs": [],
   "source": [
    "tafe_survey.info()"
   ]
  },
  {
   "cell_type": "code",
   "execution_count": null,
   "id": "565f6f7e",
   "metadata": {},
   "outputs": [],
   "source": [
    "tafe_survey.head()"
   ]
  },
  {
   "cell_type": "code",
   "execution_count": null,
   "id": "f4b815e1",
   "metadata": {},
   "outputs": [],
   "source": [
    "tafe_survey['Institute'].value_counts()"
   ]
  },
  {
   "cell_type": "code",
   "execution_count": null,
   "id": "6819ec0b",
   "metadata": {},
   "outputs": [],
   "source": [
    "tafe_survey.isnull().sum()"
   ]
  },
  {
   "cell_type": "markdown",
   "id": "3a01b922",
   "metadata": {},
   "source": [
    "### Findings From The Department of Education, Training and Employment (DETE) Survey\n",
    "\n",
    "- The DETE employee exit survey reveals that most departures were due to age retirement and various forms of resignation, with the workforce largely composed of older employees, particularly those aged 56 and above. Teaching roles dominated the data, and common reasons for leaving included job dissatisfaction, interpersonal conflicts, and lack of recognition. Several data fields, especially around diversity and classification, were incomplete. To address these findings, DETE should focus on improving retention through better workplace support, succession planning for an aging workforce, and more consistent data collection—particularly in diversity and employee feedback areas.\n",
    "\n",
    "### Findings From The Technical and Further Education (TAFE) Survey\n",
    "\n",
    "- The dataset contains 702 employee exit records from various TAFE institute, with 72 columns covering demographics, reasons for leaving, contributing factors, workplace views, and induction experiences. Key fields include cessation year, reason for leaving, and satisfaction ratings. Some columns have significant missing data, especially in contributing factors and demographic sections. Most records come from a few major institutes. The next steps could involve cleaning the data, analyzing exit reasons, comparing institute satisfaction, or visualizing trends, depending on the analysis goals.Unlike the DETE survey, the data collection from the TAFE suvey was not standardized, hence, most of the column variables have different names and this most likely contributes to the majority of the missing data."
   ]
  },
  {
   "cell_type": "markdown",
   "id": "bd7f2c94",
   "metadata": {},
   "source": [
    "## Identify Missing Values and Drop Unnecesary Columns\n",
    "The dete_survey dataframe includes 'Not Stated' entries that represent missing values, but they aren't recorded as NaN. Both dete_survey and tafe_survey contain many columns unnecessary for analysis. While the dataframes share similar information, the column names differ. Several columns also indicate that an employee resigned due to dissatisfaction. \n",
    "To begin, the plan is to convert 'Not Stated' to NaN using pd.read_csv() and then remove columns that aren't needed for analysis."
   ]
  },
  {
   "cell_type": "code",
   "execution_count": null,
   "id": "3917f3f5",
   "metadata": {},
   "outputs": [],
   "source": [
    "# Drop missing columns from the dete survey dataset\n",
    "dete_survey= pd.read_csv('dete_survey.csv', na_values= 'Not Stated')\n",
    "# Drop missing columns in the dete_survey\n",
    "dete_survey_updated= dete_survey.drop(dete_survey.columns[28:49], axis=1)\n",
    "dete_survey_updated.info()"
   ]
  },
  {
   "cell_type": "code",
   "execution_count": null,
   "id": "313b73f7",
   "metadata": {},
   "outputs": [],
   "source": [
    "# Drop missing columns in the tafe_survey\n",
    "tafe_survey_updated= tafe_survey.drop(tafe_survey.columns[17:66], axis= 1)\n",
    "tafe_survey_updated.info()"
   ]
  },
  {
   "cell_type": "markdown",
   "id": "6fff8935",
   "metadata": {},
   "source": [
    "The missing values in the dete_survey was updated from `'Not Stated' to NaN` while also dropping the columns not needed for the analysis, about 21 columns was dropped leaving the total number of 34 columns from the initial 55 columns. Also, about 48 columns were dropped from the the tafe_survey leaving the total number of coulmns to 22."
   ]
  },
  {
   "cell_type": "markdown",
   "id": "e2352d6a",
   "metadata": {},
   "source": [
    "### Clean Column Names\n",
    "Each dataframe contains many of the same columns, but the column names are different. Below are some columns selected for use in the final analysis: \n",
    "\n",
    "\n",
    "| dete_survey | tafe_survey | Definition |\n",
    "| :-----: | :-----: | :-----: |\n",
    "| ID | Record ID | An id used to identify the participant of the survey |\n",
    "| SeparationType | Reason for ceasing employment | The reason why the participant's employment ended |\n",
    "| Cease Date | CESSATION YEAR | The year or month the participant's employment ended |\n",
    "| DETE Start Date |  | The year the participant began employment with the DETE |\n",
    "|  | LengthofServiceOverall. Overall Length of Service at Institute (in years) | The length of the person's employment (in years) (in years) | \n",
    "| Age | CurrentAge. Current Age | The age of the participant |\n",
    "| Gender | Gender\tGender. What is your Gender? | The gender of the participant |\n",
    "\n",
    "Since the goal is to combine the two datasets, it's necessary to standardize column names using the DataFrame.columns attribute."
   ]
  },
  {
   "cell_type": "code",
   "execution_count": null,
   "id": "4ff813dd",
   "metadata": {},
   "outputs": [],
   "source": [
    "# Rename columns in dete_survey\n",
    "dete_survey_updated.columns= dete_survey_updated.columns.str.lower().str.strip().str.replace(' ', '_')\n",
    "dete_survey_updated.columns"
   ]
  },
  {
   "cell_type": "code",
   "execution_count": null,
   "id": "65b56579",
   "metadata": {},
   "outputs": [],
   "source": [
    "# Rename columns in tafe_survey\n",
    "tafe_survey_updated= tafe_survey_updated.rename (columns= {'Record ID': 'id', 'CESSATION YEAR': 'cease_date', 'Reason for ceasing employment': 'separationtype', 'Gender. What is your Gender?': 'gender',\n",
    "'CurrentAge. Current Age': 'age', 'Employment Type. Employment Type': 'employment_status', 'Classification. Classification': 'position',\n",
    "'LengthofServiceOverall. Overall Length of Service at Institute (in years)': 'institute_service', 'LengthofServiceCurrent. Length of Service at current workplace (in years)': 'role_service'})\n",
    "tafe_survey_updated.columns"
   ]
  },
  {
   "cell_type": "markdown",
   "id": "0d93a1ef",
   "metadata": {},
   "source": [
    "### Column Name Standardization\n",
    "\n",
    "To prepare the `dete_survey` and `tafe_survey` dataframes for analysis, column names were standardized:\n",
    "\n",
    "- **In `dete_survey`:**  \n",
    "  All column names were converted to lowercase, trailing whitespace was removed, and spaces were replaced with underscores. These steps improve naming consistency and simplify column referencing in code.\n",
    "\n",
    "- **In `tafe_survey`:**  \n",
    "  A custom mapping was used to rename selected columns to align with the naming format used in `dete_survey`. For example, `'Record ID'` became `'id'`, `'CESSATION YEAR'` became `'cease_date'`, among others. The updated names follow a consistent and readable style.\n",
    "\n",
    "Standardizing column names across both datasets makes data handling easier and allows for accurate comparison."
   ]
  },
  {
   "cell_type": "markdown",
   "id": "6536c94d",
   "metadata": {},
   "source": [
    "### Filter The Data\n",
    "\n",
    "The project's end goal is to answer the question of employees resigning due to dissatisfaction at the institute. However, the separationtype column in the `dete_survey_updated` dataframe includes several entries that mention resignation, such as:\n",
    "- Resignation due to other reasons\n",
    "- Resignation to join another employer\n",
    "- Resignation for relocation overseas or interstate\n",
    "\n",
    "These indicate different resignation circumstances among survey respondents.\n",
    "\n",
    "So, it is important to take account of these variations without dropping useful data.\n"
   ]
  },
  {
   "cell_type": "code",
   "execution_count": null,
   "id": "1117feac",
   "metadata": {},
   "outputs": [],
   "source": [
    "# Count unique values in tafe_survey_updated\n",
    "\n",
    "tafe_survey_updated['separationtype'].value_counts()"
   ]
  },
  {
   "cell_type": "code",
   "execution_count": null,
   "id": "4d1684b1",
   "metadata": {},
   "outputs": [],
   "source": [
    "# Count unique values in dete_survey_updated\n",
    "dete_survey_updated['separationtype'].value_counts()"
   ]
  },
  {
   "cell_type": "markdown",
   "id": "94e31cdb",
   "metadata": {},
   "source": [
    "Since  the `dete_survey_updated` contains several entries that mention resignation, it is best to standardize to only carry `Resignation` so ensure all the values are counted without ommission."
   ]
  },
  {
   "cell_type": "code",
   "execution_count": null,
   "id": "d745f680",
   "metadata": {},
   "outputs": [],
   "source": [
    "# Get total count of resignation\n",
    "dete_survey_updated['separationtype']= dete_survey_updated['separationtype'].str.replace('-',' ').str.split().str[0]\n",
    "dete_survey_updated['separationtype'].value_counts()"
   ]
  },
  {
   "cell_type": "code",
   "execution_count": null,
   "id": "8e84ac04",
   "metadata": {},
   "outputs": [],
   "source": [
    "# Filter data for both dataframes by resignation\n",
    "\n",
    "dete_resignations= dete_survey_updated[dete_survey_updated['separationtype'] == 'Resignation'].copy()\n",
    "tafe_resignations= tafe_survey_updated[tafe_survey_updated['separationtype'] == 'Resignation'].copy()"
   ]
  },
  {
   "cell_type": "markdown",
   "id": "ca27cd27",
   "metadata": {},
   "source": [
    "### Verify the Data\n",
    "Before proceeding with further cleaning and analysis, it's important to check that the data is generally consistent. While not all errors can be detected, reviewing the data for obvious issues helps prevent completing an analysis that may be invalid due to poor data quality.\n",
    "\n",
    "In this step, the focus is on ensuring that the values in the `cease_date` and `dete_start_date` columns appear reasonable. The `cease_date` represents the final year of employment, and the `dete_start_date` reflects the year employment began. It would be illogical for these dates to extend beyond the current year.\n",
    "\n",
    "Additionally, considering that individuals in this profession typically begin their careers in their 20s, a `dete_start_date` earlier than 1940 would be highly unusual. A significant number of dates far outside a reasonable range could indicate serious problems with the dataset and may justify halting the analysis. However, if only a few outliers are present, it would be appropriate to remove them before continuing."
   ]
  },
  {
   "cell_type": "code",
   "execution_count": null,
   "id": "33b141a6",
   "metadata": {
    "scrolled": true
   },
   "outputs": [],
   "source": [
    "\n"
   ]
  },
  {
   "cell_type": "code",
   "execution_count": null,
   "id": "db817ba4",
   "metadata": {},
   "outputs": [],
   "source": [
    "# Check years for inconsistencie and clean columns in each dataframe\n",
    "dete_resignations['cease_date'].value_counts()"
   ]
  },
  {
   "cell_type": "code",
   "execution_count": null,
   "id": "fef3dfeb",
   "metadata": {},
   "outputs": [],
   "source": [
    "dete_resignations['cease_date']= dete_resignations['cease_date'].astype(str).str.split('/').str[-1]\n",
    "dete_resignations['cease_date']= dete_resignations['cease_date'].astype(float)\n",
    "dete_resignations['cease_date'].value_counts()"
   ]
  },
  {
   "cell_type": "code",
   "execution_count": null,
   "id": "dff739db",
   "metadata": {},
   "outputs": [],
   "source": [
    "dete_resignations['dete_start_date'].value_counts().sort_values()"
   ]
  },
  {
   "cell_type": "code",
   "execution_count": null,
   "id": "bdd1b5f9",
   "metadata": {},
   "outputs": [],
   "source": [
    "tafe_resignations['cease_date'].value_counts().sort_values()"
   ]
  },
  {
   "cell_type": "code",
   "execution_count": null,
   "id": "d9731e9a",
   "metadata": {},
   "outputs": [],
   "source": [
    "plt.boxplot([\n",
    "    dete_resignations['cease_date'].dropna(),\n",
    "    dete_resignations['dete_start_date'].dropna()\n",
    "], labels=['Cease Date', 'Start Date'])\n",
    "\n",
    "plt.title('Boxplot of Employment Dates')\n",
    "plt.ylabel('Year')\n",
    "plt.show()\n"
   ]
  },
  {
   "cell_type": "code",
   "execution_count": null,
   "id": "7c54545e",
   "metadata": {},
   "outputs": [],
   "source": [
    "plt.boxplot(tafe_resignations['cease_date'].dropna())\n",
    "plt.title('Boxplot of Cease Dates')\n",
    "plt.ylabel('Year')\n",
    "plt.show()"
   ]
  },
  {
   "cell_type": "markdown",
   "id": "9c96553c",
   "metadata": {},
   "source": [
    "### Boxplot Analysis of Employment Dates\n",
    "The boxplots highlight potential inconsistencies and outliers in the employment date columns: \n",
    "- In the first plot comparing `dete_start_date` and `cease_date`, the `dete_start_date` column shows a narrow range for most values, with a few clear outliers indicating unusually early start years. The `cease_date` column presents a broader distribution, along with several outliers below the lower whisker, suggesting possible data entry errors or atypical resignation years.\n",
    "\n",
    "- The second plot, which likely represents calculated years of service, shows a more even distribution. However, an outlier on the lower end indicates an extremely short service period that may warrant further inspection. These visualizations support identifying and addressing anomalous values that could impact the reliability of further analysis.\n",
    "\n",
    "- The DETE resignation data shows most resignations happened in 2012 and 2013, with 129 and 146 cases respectively, and minimal resignations in other years. In contrast, TAFE resignations are more evenly distributed, peaking in 2011 (116), followed by steady counts in 2012, 2010, and 2013. Since the aim of the project is not to analyze by year, this will be left at as it is."
   ]
  },
  {
   "cell_type": "markdown",
   "id": "8a0f6c3e",
   "metadata": {},
   "source": [
    "### Create New Column\n",
    "With the years in the `dete_resignations` dataframe verified, these values can now be used to create a new column. The objective is to explore whether employees with shorter tenures are resigning due to dissatisfaction, and how this compares to those with longer service periods. In human resources, this duration is commonly referred to as \"years of service.\"\n",
    "\n",
    "The `tafe_resignations` dataframe already includes a \"service\" column, previously renamed to `institute_service`. To enable a consistent analysis across both datasets, a corresponding `institute_service` column will be created in `dete_resignations`."
   ]
  },
  {
   "cell_type": "code",
   "execution_count": null,
   "id": "37001f82",
   "metadata": {},
   "outputs": [],
   "source": [
    "#Create a new column for length of service for the dete_resignations dataframe\n",
    "dete_resignations['institute_service']= dete_resignations['cease_date'] - dete_resignations['dete_start_date']\n",
    "dete_resignations['institute_service'].head()"
   ]
  },
  {
   "cell_type": "markdown",
   "id": "6bc2e0a7",
   "metadata": {},
   "source": [
    "### Explanation For Creating The New Column\n",
    "A new column called `institute_service` was added to the `dete_resignations` DataFrame by calculating the difference between the `cease_date` and `dete_start_date` columns. This change quantifies the length of service at the institute for each record. Calculating this difference helps analyze the duration employees worked before resigning, which can be useful for identifying trends or patterns in employee tenure. The use of `.head()` at the end provides a quick preview of the first few values in the new column to verify that the calculation was performed correctly."
   ]
  },
  {
   "cell_type": "markdown",
   "id": "24b79a93",
   "metadata": {},
   "source": [
    "### Identify Dissatisfied Employees\n",
    "Below are the columns used to categorize employees as \"dissatisfied\" from each dataframe.\n",
    "\n",
    "`tafe_survey_updated:`\n",
    "\n",
    "- Contributing Factors. Dissatisfaction\n",
    "\n",
    "- Contributing Factors. Job Dissatisfaction\n",
    "\n",
    "`dete_survey_updated:`\n",
    "\n",
    "- job_dissatisfaction\n",
    "\n",
    "- dissatisfaction_with_the_department\n",
    "\n",
    "- physical_work_environment\n",
    "\n",
    "- lack_of_recognition\n",
    "\n",
    "- lack_of_job_security\n",
    "\n",
    "- work_location\n",
    "\n",
    "- employment_conditions\n",
    "\n",
    "- work_life_balance\n",
    "\n",
    "- workload\n",
    "\n",
    "If any of the factors listed above caused an employee to resign, they will be marked as dissatisfied in a new column.\n",
    "\n",
    "To create the new column, the following steps will be taken:\n",
    "\n",
    "- Convert the values in the `'Contributing Factors. Dissatisfaction' and 'Contributing Factors. Job Dissatisfaction'` columns in the `tafe_resignations` dataframe to True, False, or NaN values.\n",
    "\n",
    "- If any of the specified columns contain a True value, the new column named `dissatisfied` will be set to True. To achieve this, a function will be written that:\n",
    "\n",
    "    - Returns True if any element in the selected columns is True\n",
    "\n",
    "    - Returns False if none of the elements in the selected columns is True\n",
    "\n",
    "    - Returns NaN if the value is missing\n",
    "\n",
    "After these changes, the `dissatisfied` column will only contain the following values:\n",
    "\n",
    "- True: indicates resignation due to job dissatisfaction\n",
    "\n",
    "- False: indicates resignation for reasons other than job dissatisfaction\n",
    "\n",
    "- NaN: indicates missing data"
   ]
  },
  {
   "cell_type": "code",
   "execution_count": null,
   "id": "36dc0002",
   "metadata": {},
   "outputs": [],
   "source": [
    "print(tafe_resignations['Contributing Factors. Dissatisfaction'].value_counts())\n",
    "print(tafe_resignations['Contributing Factors. Job Dissatisfaction'].value_counts())"
   ]
  },
  {
   "cell_type": "code",
   "execution_count": null,
   "id": "5e8fa49e",
   "metadata": {},
   "outputs": [],
   "source": [
    "def update_vals(x):\n",
    "    if x == '-':\n",
    "        return False\n",
    "    elif pd.isnull(x):\n",
    "        return np.nan\n",
    "    else:\n",
    "        return True\n",
    " \n",
    "# Update the values in columns related to dissatisfaction to be either True, False, or NaN\n",
    "tafe_resignations['dissatisfied'] = tafe_resignations[['Contributing Factors. Dissatisfaction', 'Contributing Factors. Job Dissatisfaction']].applymap(update_vals).any(axis=1)\n",
    "tafe_resignations_up = tafe_resignations.copy()"
   ]
  },
  {
   "cell_type": "code",
   "execution_count": null,
   "id": "5fd0db90",
   "metadata": {},
   "outputs": [],
   "source": [
    "tafe_resignations_up['dissatisfied'].value_counts(dropna= False)"
   ]
  },
  {
   "cell_type": "code",
   "execution_count": null,
   "id": "ee11bce0",
   "metadata": {},
   "outputs": [],
   "source": [
    "# Update the values in columns related to dissatisfaction to be either True, False, or NaN\n",
    "\n",
    "dete_resignations['dissatisfied']= dete_resignations[['job_dissatisfaction', 'dissatisfaction_with_the_department', 'physical_work_environment', 'lack_of_recognition','lack_of_job_security','work_location','employment_conditions','work_life_balance','workload']].any(axis=1, skipna= False)\n",
    "dete_resignations_up = dete_resignations.copy() "
   ]
  },
  {
   "cell_type": "code",
   "execution_count": null,
   "id": "28f36602",
   "metadata": {},
   "outputs": [],
   "source": [
    "dete_resignations_up['dissatisfied'].value_counts(dropna= False)"
   ]
  },
  {
   "cell_type": "markdown",
   "id": "b1651618",
   "metadata": {},
   "source": [
    "### Explanation of Changes\n",
    "A new column named `'dissatisfied'` was added to both the `dete_resignations` and `tafe_resignations` DataFrames to indicate whether an employee experienced any form of job dissatisfaction. In the `dete_resignations` DataFrame, this column was created by evaluating multiple relevant columns—such as `job_dissatisfaction, workload, and lack_of_recognition` using `.any(axis=1, skipna=False)` to return True if any of the selected values in a row indicated `dissatisfaction`. \n",
    "\n",
    "In the `tafe_resignations` DataFrame, two dissatisfaction-related columns were processed with a custom function to convert values to True, False, or NaN. The results were then combined using `.any(axis=1)` to produce a single Boolean outcome. These changes make it easier to identify dissatisfied employees and perform consistent analysis across both datasets."
   ]
  },
  {
   "cell_type": "markdown",
   "id": "7515b5a2",
   "metadata": {},
   "source": [
    "### Combine The Data\n",
    "The datasets are now ready to be combined. The final objective is to aggregate the data based on the institute_service column, so the combined data should be structured in a way that supports straightforward aggregation by this column."
   ]
  },
  {
   "cell_type": "code",
   "execution_count": null,
   "id": "0bcfb237",
   "metadata": {},
   "outputs": [],
   "source": [
    "# Create new column to differntiate both datasets\n",
    "dete_resignations_up['institute']= 'DETE'\n",
    "tafe_resignations_up['institute']= 'TAFE'"
   ]
  },
  {
   "cell_type": "code",
   "execution_count": null,
   "id": "f490a718",
   "metadata": {
    "scrolled": true
   },
   "outputs": [],
   "source": [
    "# Combine both dataframe\n",
    "combined= pd.concat([dete_resignations_up, tafe_resignations_up], axis=0)\n",
    "combined.isnull().sum()"
   ]
  },
  {
   "cell_type": "code",
   "execution_count": null,
   "id": "4231e569",
   "metadata": {},
   "outputs": [],
   "source": [
    "# Drop columns with less than 500 null \n",
    "combined_updated= combined.dropna(thresh = 500, axis=1).copy()\n",
    "combined_updated.isnull().sum()"
   ]
  },
  {
   "cell_type": "markdown",
   "id": "9b31cbd5",
   "metadata": {},
   "source": [
    "A new column named `institute` was added to both dataframes to indicate the source of each resignation entry. The value `\"DETE\"` was assigned to all rows in the `dete_resignations_up` dataframe, and `\"TAFE\"` to all rows in the `tafe_resignations_up` dataframe. This allows for easy identification of the data's origin after combining the two datasets into a single dataframe called `combined`. \n",
    "To ensure the dataset contains only columns with sufficient data, the `dropna()` method was used with the thresh parameter to remove any columns with fewer than 500 non-null values. The resulting dataframe, `combined_updated`, retains only the most complete columns for further analysis."
   ]
  },
  {
   "cell_type": "markdown",
   "id": "b0af8486",
   "metadata": {},
   "source": [
    "### Clean The Service Column\n",
    "Before analysis can begin, the institute_service column needs to be cleaned and standardized. This column contains values in different formats, making it difficult to interpret. To make the data usable, the values will be converted into defined career stage categories based on length of service. These categories are:\n",
    "\n",
    "- New: Less than 3 years at a company\n",
    "\n",
    "- Experienced: 3–6 years\n",
    "\n",
    "- Established: 7–10 years\n",
    "\n",
    "- Veteran: 11 or more years\n",
    "\n",
    "This classification is informed by the idea that employee needs are better understood through career stage rather than age based on this [article](https://www.businesswire.com/newsroom)."
   ]
  },
  {
   "cell_type": "code",
   "execution_count": null,
   "id": "d2358a1f",
   "metadata": {},
   "outputs": [],
   "source": [
    "# Check unique values in the institute_service column\n",
    "combined_updated['institute_service'].value_counts(dropna= False)"
   ]
  },
  {
   "cell_type": "code",
   "execution_count": null,
   "id": "dfb2209e",
   "metadata": {},
   "outputs": [],
   "source": [
    "# Change institute_service column to str\n",
    "combined_updated['institute_service_up']= combined_updated['institute_service'].astype(str).str.extract(r'(\\d+)')\n",
    "combined_updated['institute_service_up']= combined_updated['institute_service_up'].astype(float)\n",
    "combined_updated['institute_service_up'].value_counts()"
   ]
  },
  {
   "cell_type": "code",
   "execution_count": null,
   "id": "2661426f",
   "metadata": {},
   "outputs": [],
   "source": [
    "# Create function to segment the carrer categories\n",
    "\n",
    "def career_cat(val):\n",
    "    if pd.isnull(val):\n",
    "        return np.nan\n",
    "    if val < 3:\n",
    "        return 'New'\n",
    "    elif 3 <= val <= 6:\n",
    "        return 'Experienced'\n",
    "    elif 7 <= val <= 10:\n",
    "        return 'Established'\n",
    "    elif val >= 11:\n",
    "        return 'Veteran'\n",
    "\n",
    "# Apply the Series.apply() method\n",
    "\n",
    "combined_updated['service_cat']= combined_updated['institute_service_up'].apply(career_cat)\n",
    "combined_updated['service_cat'].head()"
   ]
  },
  {
   "cell_type": "code",
   "execution_count": null,
   "id": "2339e43d",
   "metadata": {},
   "outputs": [],
   "source": []
  }
 ],
 "metadata": {
  "kernelspec": {
   "display_name": "Python 3 (ipykernel)",
   "language": "python",
   "name": "python3"
  },
  "language_info": {
   "codemirror_mode": {
    "name": "ipython",
    "version": 3
   },
   "file_extension": ".py",
   "mimetype": "text/x-python",
   "name": "python",
   "nbconvert_exporter": "python",
   "pygments_lexer": "ipython3",
   "version": "3.9.12"
  }
 },
 "nbformat": 4,
 "nbformat_minor": 5
}
